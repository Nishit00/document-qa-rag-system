{
  "cells": [
    {
      "cell_type": "markdown",
      "id": "4d51e433",
      "metadata": {
        "id": "4d51e433"
      },
      "source": [
        "# Document Q/A Rag System"
      ]
    },
    {
      "cell_type": "code",
      "source": [
        "from google.colab import userdata\n",
        "import os\n",
        "os.environ['GOOGLE_API_KEY'] = userdata.get(\"GOOGLE_API_KEY\")\n",
        "os.environ['HUGGINGFACEHUB_ACCESS_TOKEN'] = userdata.get(\"HUGGINGFACEHUB_ACCESS_TOKEN\")"
      ],
      "metadata": {
        "id": "wpJ3pDIodAsF"
      },
      "id": "wpJ3pDIodAsF",
      "execution_count": 69,
      "outputs": []
    },
    {
      "cell_type": "code",
      "source": [
        "!pip -q install langchain langchain-google-genai langchain-community faiss-cpu tiktoken python-dotenv pypdf langchain-huggingface"
      ],
      "metadata": {
        "id": "Wme6R4jIdQ_l"
      },
      "id": "Wme6R4jIdQ_l",
      "execution_count": 72,
      "outputs": []
    },
    {
      "cell_type": "code",
      "source": [
        "from langchain.text_splitter import RecursiveCharacterTextSplitter\n",
        "from langchain_google_genai import GoogleGenerativeAIEmbeddings,ChatGoogleGenerativeAI,GoogleGenerativeAI\n",
        "from langchain_community.vectorstores import FAISS\n",
        "from langchain_core.prompts import PromptTemplate\n",
        "from langchain_community.document_loaders import PyPDFLoader\n",
        "from langchain_huggingface import HuggingFaceEmbeddings"
      ],
      "metadata": {
        "id": "Ya4sKbkhdZw-"
      },
      "id": "Ya4sKbkhdZw-",
      "execution_count": 90,
      "outputs": []
    },
    {
      "cell_type": "markdown",
      "source": [
        "# Testing"
      ],
      "metadata": {
        "id": "gQRHKc0sdqfa"
      },
      "id": "gQRHKc0sdqfa"
    },
    {
      "cell_type": "code",
      "source": [
        "chat_model = ChatGoogleGenerativeAI(model=\"gemini-1.5-flash\")\n",
        "chat_model.invoke(\"HI\")"
      ],
      "metadata": {
        "id": "6CeFP9E4dtoD",
        "outputId": "7c65835e-6bb1-423f-e639-e2b8f8c7f532",
        "colab": {
          "base_uri": "https://localhost:8080/"
        }
      },
      "id": "6CeFP9E4dtoD",
      "execution_count": 76,
      "outputs": [
        {
          "output_type": "execute_result",
          "data": {
            "text/plain": [
              "AIMessage(content='Hi there! How can I help you today?', additional_kwargs={}, response_metadata={'prompt_feedback': {'block_reason': 0, 'safety_ratings': []}, 'finish_reason': 'STOP', 'model_name': 'gemini-1.5-flash', 'safety_ratings': []}, id='run--ad9b1598-224a-4a68-9283-960d3d64d9cb-0', usage_metadata={'input_tokens': 1, 'output_tokens': 11, 'total_tokens': 12, 'input_token_details': {'cache_read': 0}})"
            ]
          },
          "metadata": {},
          "execution_count": 76
        }
      ]
    },
    {
      "cell_type": "markdown",
      "source": [
        "# Step 1a - Indexing (Document Ingestion)"
      ],
      "metadata": {
        "id": "YlwKN9vnd1be"
      },
      "id": "YlwKN9vnd1be"
    },
    {
      "cell_type": "code",
      "source": [
        "loader = PyPDFLoader(\"/content/Docker Deep Dive.pdf\")\n",
        "docs = loader.load()"
      ],
      "metadata": {
        "id": "e8Q7in8ed6Q0"
      },
      "id": "e8Q7in8ed6Q0",
      "execution_count": 78,
      "outputs": []
    },
    {
      "cell_type": "code",
      "source": [
        "len(docs)"
      ],
      "metadata": {
        "id": "W_s2bDUkd9-c",
        "outputId": "c2052228-6fc9-4851-c5d6-16184565ef86",
        "colab": {
          "base_uri": "https://localhost:8080/"
        }
      },
      "id": "W_s2bDUkd9-c",
      "execution_count": 79,
      "outputs": [
        {
          "output_type": "execute_result",
          "data": {
            "text/plain": [
              "280"
            ]
          },
          "metadata": {},
          "execution_count": 79
        }
      ]
    },
    {
      "cell_type": "code",
      "source": [
        "docs[0]"
      ],
      "metadata": {
        "id": "q8tso-20eEJZ",
        "outputId": "93a0dc2b-6247-4758-8128-cbb918597982",
        "colab": {
          "base_uri": "https://localhost:8080/"
        }
      },
      "id": "q8tso-20eEJZ",
      "execution_count": 80,
      "outputs": [
        {
          "output_type": "execute_result",
          "data": {
            "text/plain": [
              "Document(metadata={'producer': 'XeTeX 0.99998', 'creator': 'LaTeX with hyperref package', 'creationdate': '2024-05-21T09:09:33+00:00', 'title': 'Docker Deep Dive', 'author': 'Nigel Poulton', 'source': '/content/Docker Deep Dive.pdf', 'total_pages': 280, 'page': 0, 'page_label': 'i'}, page_content='')"
            ]
          },
          "metadata": {},
          "execution_count": 80
        }
      ]
    },
    {
      "cell_type": "markdown",
      "source": [
        "# Step 1b - Indexing(Text Splitting)"
      ],
      "metadata": {
        "id": "WJiX94-6eFCp"
      },
      "id": "WJiX94-6eFCp"
    },
    {
      "cell_type": "code",
      "source": [
        "splitter = RecursiveCharacterTextSplitter(\n",
        "    chunk_size=1000,\n",
        "    chunk_overlap=200,\n",
        ")\n",
        "chunks = splitter.split_documents(docs)"
      ],
      "metadata": {
        "id": "6L7ksooXeHNU"
      },
      "id": "6L7ksooXeHNU",
      "execution_count": 82,
      "outputs": []
    },
    {
      "cell_type": "code",
      "source": [
        "len(chunks)"
      ],
      "metadata": {
        "id": "FDXDNzBceIgJ",
        "outputId": "0205d268-c79e-4e7c-f644-3a8139348fff",
        "colab": {
          "base_uri": "https://localhost:8080/"
        }
      },
      "id": "FDXDNzBceIgJ",
      "execution_count": 83,
      "outputs": [
        {
          "output_type": "execute_result",
          "data": {
            "text/plain": [
              "589"
            ]
          },
          "metadata": {},
          "execution_count": 83
        }
      ]
    },
    {
      "cell_type": "code",
      "source": [
        "chunks[200]"
      ],
      "metadata": {
        "id": "HcGDNYmneMOE",
        "outputId": "bcad7c6e-df97-425a-833c-fe0467b9fec5",
        "colab": {
          "base_uri": "https://localhost:8080/"
        }
      },
      "id": "HcGDNYmneMOE",
      "execution_count": 84,
      "outputs": [
        {
          "output_type": "execute_result",
          "data": {
            "text/plain": [
              "Document(metadata={'producer': 'XeTeX 0.99998', 'creator': 'LaTeX with hyperref package', 'creationdate': '2024-05-21T09:09:33+00:00', 'title': 'Docker Deep Dive', 'author': 'Nigel Poulton', 'source': '/content/Docker Deep Dive.pdf', 'total_pages': 280, 'page': 93, 'page_label': '87'}, page_content=\"package listed onsearch.nixos.org.\\nRun the following command to install thebind package (which includes thenslookup\\ntool), and then run thenslookup command again.\\ndocker > install bind\\nTip: You can install any package available at: https://search.nixos.org/packages.\\ninstalling 'bind-9.18.19'\\n<Snip>\\ndocker > nslookup nigelpoulton.com\\nServer: 192.168.65.7\\nAddress: 192.168.65.7#53\\nNon-authoritative answer:\\nName: nigelpoulton.com\\nAddress: 192.124.249.126\\nThe command worked, andnslookup is now installed in yourtoolbox and will be\\navailable in future Docker Debug sessions.\\nCongratulations, you’ve used Docker Debug to attach to a running container and run\\ntroubleshooting commands that aren’t part of the container. You’ve also seen how to\\ninstall additional tools to your Docker Debug toolbox. Remember, any changes you\\nmake to running containers are immediately visible to the container and persist after\\nyou close the session.\")"
            ]
          },
          "metadata": {},
          "execution_count": 84
        }
      ]
    },
    {
      "cell_type": "code",
      "source": [
        "embeddings = HuggingFaceEmbeddings(model_name=\"sentence-transformers/all-MiniLM-L6-v2\")\n",
        "vector_store = FAISS.from_documents(chunks, embeddings)"
      ],
      "metadata": {
        "id": "5VCuSBdIeNLv"
      },
      "id": "5VCuSBdIeNLv",
      "execution_count": 85,
      "outputs": []
    },
    {
      "cell_type": "markdown",
      "source": [
        "# Step 2 - Retrieval"
      ],
      "metadata": {
        "id": "yNL-0bzveV3K"
      },
      "id": "yNL-0bzveV3K"
    },
    {
      "cell_type": "code",
      "source": [
        "retriever = vector_store.as_retriever(search_type=\"similarity\",search_kwargs={\"k\":4})"
      ],
      "metadata": {
        "id": "XZBc5ZyVebvu"
      },
      "id": "XZBc5ZyVebvu",
      "execution_count": 86,
      "outputs": []
    },
    {
      "cell_type": "code",
      "source": [
        "retriever"
      ],
      "metadata": {
        "id": "9CAsk1uveqWc",
        "outputId": "cf35231a-a734-4c61-b736-461a0575626a",
        "colab": {
          "base_uri": "https://localhost:8080/"
        }
      },
      "id": "9CAsk1uveqWc",
      "execution_count": 87,
      "outputs": [
        {
          "output_type": "execute_result",
          "data": {
            "text/plain": [
              "VectorStoreRetriever(tags=['FAISS', 'HuggingFaceEmbeddings'], vectorstore=<langchain_community.vectorstores.faiss.FAISS object at 0x7a371f318a70>, search_kwargs={'k': 4})"
            ]
          },
          "metadata": {},
          "execution_count": 87
        }
      ]
    },
    {
      "cell_type": "code",
      "source": [
        "retriever.invoke(\"What is docker\")"
      ],
      "metadata": {
        "id": "vSExnUr-esTt",
        "outputId": "c5365406-19d0-4e04-e426-bdf9fff0b6b5",
        "colab": {
          "base_uri": "https://localhost:8080/"
        }
      },
      "id": "vSExnUr-esTt",
      "execution_count": 88,
      "outputs": [
        {
          "output_type": "execute_result",
          "data": {
            "text/plain": [
              "[Document(id='6a2a7961-c9d4-4dfd-95be-0d6b8453678c', metadata={'producer': 'XeTeX 0.99998', 'creator': 'LaTeX with hyperref package', 'creationdate': '2024-05-21T09:09:33+00:00', 'title': 'Docker Deep Dive', 'author': 'Nigel Poulton', 'source': '/content/Docker Deep Dive.pdf', 'total_pages': 280, 'page': 16, 'page_label': '10'}, page_content='Docker, Inc.\\nDocker, Inc. is a technology company based out of Palo Alto and founded by French-\\nborn American developer and entrepreneur Solomon Hykes. Solomon is no longer at\\nthe company.\\nThe company started as aplatform as a service (PaaS)provider calleddotCloud. Behind the\\nscenes, dotCloud delivered their services on top of containers and had an in-house to\\nhelp them deploy and manage those containers. They called this in-house toolDocker.\\nThe wordDocker is a British expression meaningdock work____er____ that refers to a\\nperson who loads and unloads cargo from ships.'),\n",
              " Document(id='2336e975-4819-46a0-98f7-7554529ced0b', metadata={'producer': 'XeTeX 0.99998', 'creator': 'LaTeX with hyperref package', 'creationdate': '2024-05-21T09:09:33+00:00', 'title': 'Docker Deep Dive', 'author': 'Nigel Poulton', 'source': '/content/Docker Deep Dive.pdf', 'total_pages': 280, 'page': 20, 'page_label': '14'}, page_content='specialized tools for building container platforms.\\nPlatform builders can pick the specific Moby tools they need to build their container\\nplatform. They can even compose their platforms from a mix of Moby tools, in-house\\ntools, and tools from other projects.\\nDocker, Inc. originally created the Moby project, but it now has members including\\nMicrosoft, Mirantis, and Nvidia.\\nThe Docker platform is built using tools from various projects, including the Moby\\nproject, the CNCF, and the OCI.\\nChapter summary\\nThis chapter introduced you to Docker and some of the major influences in the\\ncontainer ecosystem.\\nDocker, Inc., is a technology company based in Palo Alto that is changing how we do\\nsoftware. They were thefirst moversand instigators of the modern container revolution.\\nThe Docker platform focuses on running and managing application containers. It runs\\non Linux and Windows, can be installed almost anywhere, and offers a variety of free\\nand paid-for products.'),\n",
              " Document(id='23ce5baa-4f67-4573-8d89-30acbfbbbf64', metadata={'producer': 'XeTeX 0.99998', 'creator': 'LaTeX with hyperref package', 'creationdate': '2024-05-21T09:09:33+00:00', 'title': 'Docker Deep Dive', 'author': 'Nigel Poulton', 'source': '/content/Docker Deep Dive.pdf', 'total_pages': 280, 'page': 37, 'page_label': '31'}, page_content='5: The Docker Engine\\nIn this chapter, we’ll look under the hood of the Docker Engine.\\nThis chapter has a strongoperations focus, and you can use Docker without knowing\\neverything you’re about to learn. However, to truly master something, you need to\\nunderstand what’s going on under the hood. So, if you want tomaster Docker, you\\nshould read this chapter.\\nI’ve divided the chapter into the following sections:\\n• Docker Engine – The TLDR\\n• The Docker Engine\\n• The influence of the Open Container Initiative (OCI)\\n• runc\\n• containerd\\n• Starting a new container (example)\\n• What’s the shim all about\\n• How it’s implemented on Linux\\nLet’s learn about the Docker Engine.\\nDocker Engine – The TLDR\\nDocker Engineis jargon for the server-side components of Docker that run and manage\\ncontainers. If you’ve ever worked with VMware, the Docker Engine is similar to ESXi.\\nThe Docker Engine is modular and built from many small specialized components'),\n",
              " Document(id='a30499cd-9d15-4605-92b5-a91739671be8', metadata={'producer': 'XeTeX 0.99998', 'creator': 'LaTeX with hyperref package', 'creationdate': '2024-05-21T09:09:33+00:00', 'title': 'Docker Deep Dive', 'author': 'Nigel Poulton', 'source': '/content/Docker Deep Dive.pdf', 'total_pages': 280, 'page': 16, 'page_label': '10'}, page_content='2: Docker and container-related\\nstandards and projects\\nThis chapter introduces you to Docker and some of the most important standards and\\nprojects shaping the container ecosystem. The goal is to lay some foundations that we’ll\\nbuild on in later chapters.\\nThis chapter has two main parts:\\n• Docker\\n• Container-related standards and projects\\nDocker\\nDocker is at the heart of the container ecosystem. However, the termDocker can mean\\ntwo things:\\n1. The Docker platform\\n2. Docker, Inc.\\nThe Docker platformis a neatly packaged collection of technologies for creating, manag-\\ning, and orchestrating containers.Docker, Inc.is the company that created the Docker\\nplatform and continues to be the driving force behind developing new features.\\nLet’s dive a bit deeper.\\nDocker, Inc.\\nDocker, Inc. is a technology company based out of Palo Alto and founded by French-\\nborn American developer and entrepreneur Solomon Hykes. Solomon is no longer at\\nthe company.')]"
            ]
          },
          "metadata": {},
          "execution_count": 88
        }
      ]
    },
    {
      "cell_type": "markdown",
      "source": [
        "# Step 3 - Augmentation"
      ],
      "metadata": {
        "id": "E9KlbeOpevou"
      },
      "id": "E9KlbeOpevou"
    },
    {
      "cell_type": "code",
      "source": [
        "llm = GoogleGenerativeAI(model=\"models/gemini-1.5-flash\")"
      ],
      "metadata": {
        "id": "VXvdMw19eyoQ"
      },
      "id": "VXvdMw19eyoQ",
      "execution_count": 91,
      "outputs": []
    },
    {
      "cell_type": "code",
      "source": [
        "prompt = PromptTemplate(\n",
        "    template = \"\"\"\n",
        "    You are a helpful assistant.\n",
        "    Answer ONLY from the provided transcript context.\n",
        "    If the context is insufficient, just say you don't know.\n",
        "\n",
        "    {context}\n",
        "\n",
        "    Question: {question}\n",
        "    \"\"\",\n",
        "    input_variables=[\"context\",\"question\"]\n",
        ")"
      ],
      "metadata": {
        "id": "3TPbeyHXe2sr"
      },
      "id": "3TPbeyHXe2sr",
      "execution_count": 92,
      "outputs": []
    },
    {
      "cell_type": "code",
      "source": [
        "question = \"if the topic of aliens disscussed in this video? if yes then what was discussed\"\n",
        "retrieved_docs = retriever.invoke(question)"
      ],
      "metadata": {
        "id": "24OK4Ekwe_D5"
      },
      "id": "24OK4Ekwe_D5",
      "execution_count": 93,
      "outputs": []
    },
    {
      "cell_type": "code",
      "source": [
        "retrieved_docs"
      ],
      "metadata": {
        "id": "jMADFhGjfAHe",
        "outputId": "d5f58a07-a6de-4375-ecc8-8ef724a66b4d",
        "colab": {
          "base_uri": "https://localhost:8080/"
        }
      },
      "id": "jMADFhGjfAHe",
      "execution_count": 94,
      "outputs": [
        {
          "output_type": "execute_result",
          "data": {
            "text/plain": [
              "[Document(id='d1c5b3c6-1dd1-4f11-a45f-3697b85b3cca', metadata={'producer': 'XeTeX 0.99998', 'creator': 'LaTeX with hyperref package', 'creationdate': '2024-05-21T09:09:33+00:00', 'title': 'Docker Deep Dive', 'author': 'Nigel Poulton', 'source': '/content/Docker Deep Dive.pdf', 'total_pages': 280, 'page': 10, 'page_label': '4'}, page_content='Part 1: The big picture stuff'),\n",
              " Document(id='370b39d2-4c70-4cdd-8ac9-df2f96b748a7', metadata={'producer': 'XeTeX 0.99998', 'creator': 'LaTeX with hyperref package', 'creationdate': '2024-05-21T09:09:33+00:00', 'title': 'Docker Deep Dive', 'author': 'Nigel Poulton', 'source': '/content/Docker Deep Dive.pdf', 'total_pages': 280, 'page': 36, 'page_label': '30'}, page_content='Part 2: The technical stuff'),\n",
              " Document(id='0f2d769e-f256-44f0-8f00-73afd4e9b2bb', metadata={'producer': 'XeTeX 0.99998', 'creator': 'LaTeX with hyperref package', 'creationdate': '2024-05-21T09:09:33+00:00', 'title': 'Docker Deep Dive', 'author': 'Nigel Poulton', 'source': '/content/Docker Deep Dive.pdf', 'total_pages': 280, 'page': 3, 'page_label': ''}, page_content='Contents\\n0: About the book. . . . . . . . . . . . . . . . . . . . . . . . . . . . . . . . . . . . . . . .1\\nPart 1: The big picture stuff. . . . . . . . . . . . . . . . . . . . .4\\n1: Containers from 30,000 feet. . . . . . . . . . . . . . . . . . . . . . . . . . . . . . . .5\\nThe bad old days. . . . . . . . . . . . . . . . . . . . . . . . . . . . . . . . . . . . . . . 5\\nHello VMware! . . . . . . . . . . . . . . . . . . . . . . . . . . . . . . . . . . . . . . . . 5\\nVMwarts . . . . . . . . . . . . . . . . . . . . . . . . . . . . . . . . . . . . . . . . . . . . 5\\nHello Containers!. . . . . . . . . . . . . . . . . . . . . . . . . . . . . . . . . . . . . . . 6\\nLinux containers . . . . . . . . . . . . . . . . . . . . . . . . . . . . . . . . . . . . . . . 6\\nHello Docker! . . . . . . . . . . . . . . . . . . . . . . . . . . . . . . . . . . . . . . . . . 7\\nDocker and Windows. . . . . . . . . . . . . . . . . . . . . . . . . . . . . . . . . . . . 7'),\n",
              " Document(id='a9abded1-05f3-437b-9187-a62abf82c0f0', metadata={'producer': 'XeTeX 0.99998', 'creator': 'LaTeX with hyperref package', 'creationdate': '2024-05-21T09:09:33+00:00', 'title': 'Docker Deep Dive', 'author': 'Nigel Poulton', 'source': '/content/Docker Deep Dive.pdf', 'total_pages': 280, 'page': 271, 'page_label': '265'}, page_content='What next 265\\n• YouTube: youtube.com/nigelpoulton\\n• Delete me\\nFeedback and reviews\\nBooks live and die by Amazon reviews and stars.\\nI’ve spent more than a year of my life writing this book, and I work tirelessly keeping\\nit up-to-date. Soooo… please take a moment to leave a kind review on Amazon or\\nGoodreads.\\nAlso, ping me atddd@nigelpoulton.com if you want to suggest content or fixes for\\nfuture editions.')]"
            ]
          },
          "metadata": {},
          "execution_count": 94
        }
      ]
    },
    {
      "cell_type": "code",
      "source": [
        "context_text = \"\\n\\n\".join(doc.page_content for doc in retrieved_docs)"
      ],
      "metadata": {
        "id": "Po7lGDdCfBJ_"
      },
      "id": "Po7lGDdCfBJ_",
      "execution_count": 95,
      "outputs": []
    },
    {
      "cell_type": "code",
      "source": [
        "context_text"
      ],
      "metadata": {
        "id": "EyQsQQ5afDLQ",
        "outputId": "8b7ddcf6-5d24-4749-8db7-f4d01dc5b266",
        "colab": {
          "base_uri": "https://localhost:8080/",
          "height": 139
        }
      },
      "id": "EyQsQQ5afDLQ",
      "execution_count": 96,
      "outputs": [
        {
          "output_type": "execute_result",
          "data": {
            "text/plain": [
              "'Part 1: The big picture stuff\\n\\nPart 2: The technical stuff\\n\\nContents\\n0: About the book. . . . . . . . . . . . . . . . . . . . . . . . . . . . . . . . . . . . . . . .1\\nPart 1: The big picture stuff. . . . . . . . . . . . . . . . . . . . .4\\n1: Containers from 30,000 feet. . . . . . . . . . . . . . . . . . . . . . . . . . . . . . . .5\\nThe bad old days. . . . . . . . . . . . . . . . . . . . . . . . . . . . . . . . . . . . . . . 5\\nHello VMware! . . . . . . . . . . . . . . . . . . . . . . . . . . . . . . . . . . . . . . . . 5\\nVMwarts . . . . . . . . . . . . . . . . . . . . . . . . . . . . . . . . . . . . . . . . . . . . 5\\nHello Containers!. . . . . . . . . . . . . . . . . . . . . . . . . . . . . . . . . . . . . . . 6\\nLinux containers . . . . . . . . . . . . . . . . . . . . . . . . . . . . . . . . . . . . . . . 6\\nHello Docker! . . . . . . . . . . . . . . . . . . . . . . . . . . . . . . . . . . . . . . . . . 7\\nDocker and Windows. . . . . . . . . . . . . . . . . . . . . . . . . . . . . . . . . . . . 7\\n\\nWhat next 265\\n• YouTube: youtube.com/nigelpoulton\\n• Delete me\\nFeedback and reviews\\nBooks live and die by Amazon reviews and stars.\\nI’ve spent more than a year of my life writing this book, and I work tirelessly keeping\\nit up-to-date. Soooo… please take a moment to leave a kind review on Amazon or\\nGoodreads.\\nAlso, ping me atddd@nigelpoulton.com if you want to suggest content or fixes for\\nfuture editions.'"
            ],
            "application/vnd.google.colaboratory.intrinsic+json": {
              "type": "string"
            }
          },
          "metadata": {},
          "execution_count": 96
        }
      ]
    },
    {
      "cell_type": "code",
      "source": [
        "final_prompt = prompt.invoke({\"context\":context_text,\"question\":question})"
      ],
      "metadata": {
        "id": "R728c3mefD2I"
      },
      "id": "R728c3mefD2I",
      "execution_count": 97,
      "outputs": []
    },
    {
      "cell_type": "code",
      "source": [
        "final_prompt"
      ],
      "metadata": {
        "id": "WN5ZTa_BfFAq",
        "outputId": "adc35eeb-56ba-45ed-829c-3eb746f3c672",
        "colab": {
          "base_uri": "https://localhost:8080/"
        }
      },
      "id": "WN5ZTa_BfFAq",
      "execution_count": 98,
      "outputs": [
        {
          "output_type": "execute_result",
          "data": {
            "text/plain": [
              "StringPromptValue(text=\"\\n    You are a helpful assistant.\\n    Answer ONLY from the provided transcript context.\\n    If the context is insufficient, just say you don't know.\\n\\n    Part 1: The big picture stuff\\n\\nPart 2: The technical stuff\\n\\nContents\\n0: About the book. . . . . . . . . . . . . . . . . . . . . . . . . . . . . . . . . . . . . . . .1\\nPart 1: The big picture stuff. . . . . . . . . . . . . . . . . . . . .4\\n1: Containers from 30,000 feet. . . . . . . . . . . . . . . . . . . . . . . . . . . . . . . .5\\nThe bad old days. . . . . . . . . . . . . . . . . . . . . . . . . . . . . . . . . . . . . . . 5\\nHello VMware! . . . . . . . . . . . . . . . . . . . . . . . . . . . . . . . . . . . . . . . . 5\\nVMwarts . . . . . . . . . . . . . . . . . . . . . . . . . . . . . . . . . . . . . . . . . . . . 5\\nHello Containers!. . . . . . . . . . . . . . . . . . . . . . . . . . . . . . . . . . . . . . . 6\\nLinux containers . . . . . . . . . . . . . . . . . . . . . . . . . . . . . . . . . . . . . . . 6\\nHello Docker! . . . . . . . . . . . . . . . . . . . . . . . . . . . . . . . . . . . . . . . . . 7\\nDocker and Windows. . . . . . . . . . . . . . . . . . . . . . . . . . . . . . . . . . . . 7\\n\\nWhat next 265\\n• YouTube: youtube.com/nigelpoulton\\n• Delete me\\nFeedback and reviews\\nBooks live and die by Amazon reviews and stars.\\nI’ve spent more than a year of my life writing this book, and I work tirelessly keeping\\nit up-to-date. Soooo… please take a moment to leave a kind review on Amazon or\\nGoodreads.\\nAlso, ping me atddd@nigelpoulton.com if you want to suggest content or fixes for\\nfuture editions.\\n\\n    Question: if the topic of aliens disscussed in this video? if yes then what was discussed\\n    \")"
            ]
          },
          "metadata": {},
          "execution_count": 98
        }
      ]
    },
    {
      "cell_type": "markdown",
      "source": [
        "# Step 4 - Generation"
      ],
      "metadata": {
        "id": "2AvzYd9EfFkn"
      },
      "id": "2AvzYd9EfFkn"
    },
    {
      "cell_type": "code",
      "source": [
        "answer = llm.invoke(final_prompt)"
      ],
      "metadata": {
        "id": "DfBCjI8ifIk2"
      },
      "id": "DfBCjI8ifIk2",
      "execution_count": 99,
      "outputs": []
    },
    {
      "cell_type": "code",
      "source": [
        "answer"
      ],
      "metadata": {
        "id": "m-3DhwhEfNhr",
        "outputId": "da10fdf0-3dce-4af5-d527-12e03b01a4ea",
        "colab": {
          "base_uri": "https://localhost:8080/",
          "height": 35
        }
      },
      "id": "m-3DhwhEfNhr",
      "execution_count": 100,
      "outputs": [
        {
          "output_type": "execute_result",
          "data": {
            "text/plain": [
              "\"I don't know.  The provided text is a table of contents and some concluding remarks about a book; it does not mention aliens.\""
            ],
            "application/vnd.google.colaboratory.intrinsic+json": {
              "type": "string"
            }
          },
          "metadata": {},
          "execution_count": 100
        }
      ]
    },
    {
      "cell_type": "markdown",
      "source": [
        "# Building a Chain"
      ],
      "metadata": {
        "id": "OlI1qhhSfJ43"
      },
      "id": "OlI1qhhSfJ43"
    },
    {
      "cell_type": "code",
      "source": [
        "from langchain_core.runnables import RunnableParallel,RunnablePassthrough,RunnableLambda\n",
        "from langchain_core.output_parsers import StrOutputParser"
      ],
      "metadata": {
        "id": "vUB31U5JfNCR"
      },
      "id": "vUB31U5JfNCR",
      "execution_count": 101,
      "outputs": []
    },
    {
      "cell_type": "code",
      "source": [
        "def format_docs(retrieved_docs):\n",
        "  context_text = \"\\n\\n\".join(doc.page_content for doc in retrieved_docs)\n",
        "  return context_text"
      ],
      "metadata": {
        "id": "a_QMpKZbfQgx"
      },
      "id": "a_QMpKZbfQgx",
      "execution_count": 102,
      "outputs": []
    },
    {
      "cell_type": "code",
      "source": [
        "parallel_chain = RunnableParallel({\n",
        "    'context': retriever | RunnableLambda(format_docs),\n",
        "    'question': RunnablePassthrough()\n",
        "}\n",
        ")"
      ],
      "metadata": {
        "id": "Cjp0s2NkfRex"
      },
      "id": "Cjp0s2NkfRex",
      "execution_count": 103,
      "outputs": []
    },
    {
      "cell_type": "code",
      "source": [
        "parallel_chain.invoke('How to manage a app in a container')"
      ],
      "metadata": {
        "id": "HTRu1pbEfSiu",
        "outputId": "5e48f9d4-933b-4038-c2f1-0f01672e94ea",
        "colab": {
          "base_uri": "https://localhost:8080/"
        }
      },
      "id": "HTRu1pbEfSiu",
      "execution_count": 104,
      "outputs": [
        {
          "output_type": "execute_result",
          "data": {
            "text/plain": [
              "{'context': '8: Containerizing an app\\nDocker makes it easy to package applications as images and run them as containers.\\nWe call this processcontainerization, and this chapter will walk you through the entire\\nprocess.\\nI’ve divided the chapter as follows:\\n• Containerizing an app – The TLDR\\n• Containerize a single-container app\\n• Moving to production with multi-stage-builds\\n• Buildx, BuildKit, drivers, and Build Cloud\\n• Multi-architecture builds\\n• A few good practices\\nContainerizing an app – The TLDR\\nDocker aims to make it easy tobuild, ship,and run applications. We call thiscontaineriza-\\ntion and the process looks like this:\\n1. Write your applications and create the list of dependencies\\n2. Create aDockerfile that tells Docker how to build and run the app\\n3. Build the app into an image\\n4. Push the image to a registry (optional)\\n5. Run a container from the image\\nYou can see these five steps in Figure 8.1.\\n\\nrunning the app defined in the image.\\nHow containers start apps\\nIn the previous section, you created a container running a web app. But how did the\\ncontainer know which app to start and how to start it?\\nThere are three ways you can tell Docker how to start an app in a container:\\n\\n9: Multi-container apps with Compose 121\\nInstead of hacking together complex scripts and longdocker commands, Compose lets\\nyou describe the application in a simple YAML file called aCompose file. You then use the\\nCompose file with thedocker compose command to deploy and manage the app.\\nYou should keep your Compose files in a version control system such as Git.\\nThat’s the basics. Let’s dig deeper.\\nCompose background\\nWhen Docker was new, a company calledOrchard Labsbuilt a tool calledFig that made\\ndeploying and managing multi-container apps easy. It was a Python tool that ran on\\ntop of Docker and let you define complex multi-container microservices apps in a\\nsimple YAML file. You could even use thefig command-line tool to manage the entire\\napplication lifecycle.\\nBehind the scenes, Fig would read the YAML file and call the appropriate Docker\\ncommands to deploy and manage the app.\\nFig was so good that Docker, Inc. acquired Orchard Labs and rebranded Fig asDocker\\n\\nCONTENTS\\nBuildx, BuildKit, drivers, and Build Cloud. . . . . . . . . . . . . . . . . . . . . . . . 111\\nMulti-architecture builds . . . . . . . . . . . . . . . . . . . . . . . . . . . . . . . . . .113\\nA few good practices. . . . . . . . . . . . . . . . . . . . . . . . . . . . . . . . . . . . .116\\nContainerizing an app – The commands. . . . . . . . . . . . . . . . . . . . . . . . .118\\n9: Multi-container apps with Compose. . . . . . . . . . . . . . . . . . . . . . . . . . .120\\nDocker Compose – The TLDR. . . . . . . . . . . . . . . . . . . . . . . . . . . . . . .120\\nCompose background . . . . . . . . . . . . . . . . . . . . . . . . . . . . . . . . . . . . 121\\nInstalling Compose. . . . . . . . . . . . . . . . . . . . . . . . . . . . . . . . . . . . . . 121\\nThe sample app. . . . . . . . . . . . . . . . . . . . . . . . . . . . . . . . . . . . . . . .122\\nCompose files. . . . . . . . . . . . . . . . . . . . . . . . . . . . . . . . . . . . . . . . . 124',\n",
              " 'question': 'How to manage a app in a container'}"
            ]
          },
          "metadata": {},
          "execution_count": 104
        }
      ]
    },
    {
      "cell_type": "code",
      "source": [
        "parser = StrOutputParser()"
      ],
      "metadata": {
        "id": "SWsonrcofdoY"
      },
      "id": "SWsonrcofdoY",
      "execution_count": 105,
      "outputs": []
    },
    {
      "cell_type": "code",
      "source": [
        "main_chain = parallel_chain | prompt | llm | parser"
      ],
      "metadata": {
        "id": "ANKJS5y4ffqR"
      },
      "id": "ANKJS5y4ffqR",
      "execution_count": 106,
      "outputs": []
    },
    {
      "cell_type": "code",
      "source": [
        "main_chain.invoke(\"How to manage a app in a container\")"
      ],
      "metadata": {
        "id": "RKWLPrLPfgpZ",
        "outputId": "ab4f144e-57ad-4fe0-9f5d-e60d64905f7b",
        "colab": {
          "base_uri": "https://localhost:8080/",
          "height": 70
        }
      },
      "id": "RKWLPrLPfgpZ",
      "execution_count": 108,
      "outputs": [
        {
          "output_type": "execute_result",
          "data": {
            "text/plain": [
              "'The provided text describes using Docker Compose to manage multi-container applications.  Compose uses a YAML file to define the application, and the `docker compose` command to deploy and manage it.  For single-container apps, a Dockerfile specifies how to build and run the application.'"
            ],
            "application/vnd.google.colaboratory.intrinsic+json": {
              "type": "string"
            }
          },
          "metadata": {},
          "execution_count": 108
        }
      ]
    },
    {
      "cell_type": "code",
      "source": [
        "main_chain.invoke(\"How to manage a app in a container. Guide me in detail\")"
      ],
      "metadata": {
        "id": "fLLw37WDfoSQ",
        "outputId": "e35dd153-96a2-4b2f-e59e-6181fb52906e",
        "colab": {
          "base_uri": "https://localhost:8080/",
          "height": 104
        }
      },
      "id": "fLLw37WDfoSQ",
      "execution_count": 109,
      "outputs": [
        {
          "output_type": "execute_result",
          "data": {
            "text/plain": [
              "\"The provided text describes containerizing an app using Docker in five steps:\\n\\n1.  Write your application and list its dependencies.\\n2.  Create a Dockerfile instructing Docker on how to build and run the application.\\n3.  Build the app into an image.\\n4.  Push the image to a registry (optional).\\n5.  Run a container from the image.\\n\\nThe text also mentions three ways to tell Docker how to start an app within a container, but it does not detail these methods.  Further information on managing the app within the container after it's running is not included in this excerpt.\""
            ],
            "application/vnd.google.colaboratory.intrinsic+json": {
              "type": "string"
            }
          },
          "metadata": {},
          "execution_count": 109
        }
      ]
    }
  ],
  "metadata": {
    "kernelspec": {
      "display_name": ".venv",
      "language": "python",
      "name": "python3"
    },
    "language_info": {
      "name": "python",
      "version": "3.12.10"
    },
    "colab": {
      "provenance": []
    }
  },
  "nbformat": 4,
  "nbformat_minor": 5
}