{
 "cells": [
  {
   "cell_type": "markdown",
   "id": "4d51e433",
   "metadata": {},
   "source": [
    "# Document Q/A Rag System"
   ]
  }
 ],
 "metadata": {
  "kernelspec": {
   "display_name": ".venv",
   "language": "python",
   "name": "python3"
  },
  "language_info": {
   "name": "python",
   "version": "3.12.10"
  }
 },
 "nbformat": 4,
 "nbformat_minor": 5
}
